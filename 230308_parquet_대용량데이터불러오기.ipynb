{
 "cells": [
  {
   "cell_type": "code",
   "execution_count": 1,
   "id": "849be02c",
   "metadata": {},
   "outputs": [],
   "source": [
    "import pandas as pd"
   ]
  },
  {
   "cell_type": "code",
   "execution_count": 2,
   "id": "7f367727",
   "metadata": {},
   "outputs": [],
   "source": [
    "dtypes = {'event_time':'category', 'event_type' : 'category','category_code' : 'category', \n",
    "          'brand' : 'category', 'user_session' : 'category'}"
   ]
  },
  {
   "cell_type": "code",
   "execution_count": 5,
   "id": "cc6bd010",
   "metadata": {},
   "outputs": [],
   "source": [
    "# Initialize an empty list to store the chunks\n",
    "chunks = []\n",
    "\n",
    "# Read in the chunks one by one an`d append them to the list\n",
    "for chunk in pd.read_csv('/Users/hollyyoon/Desktop/2019-Nov.csv', chunksize=100000, dtype=dtypes):\n",
    "    chunks.append(chunk)\n",
    "\n",
    "# Concatenate all the chunks into a single DataFrame\n",
    "df = pd.concat(chunks)\n",
    "\n",
    "# Sample 1 million rows randomly\n",
    "df_sampled = df.sample(n=10000000)\n",
    "\n",
    "df_sampled.to_parquet('/Users/hollyyoon/Desktop/2019-Nov.parquet', compression=\"gzip\")"
   ]
  },
  {
   "cell_type": "code",
   "execution_count": 4,
   "id": "2f990398",
   "metadata": {},
   "outputs": [],
   "source": [
    "chunks2=[]\n",
    "for chunk in pd.read_csv('/Users/hollyyoon/Downloads/2019-Oct.csv', chunksize=100000, dtype=dtypes):\n",
    "    chunks2.append(chunk)\n",
    "df2 = pd.concat(chunks2)\n",
    "df_sampled2 = df2.sample(n=10000000)\n",
    "df_sampled2.to_parquet('/Users/hollyyoon/Desktop/2019-Oct.parquet', compression=\"gzip\")"
   ]
  },
  {
   "cell_type": "code",
   "execution_count": 7,
   "id": "0315ac21",
   "metadata": {},
   "outputs": [],
   "source": [
    "df_oct = pd.read_parquet('/Users/hollyyoon/Desktop/2019-Oct.parquet')\n",
    "df_nov = pd.read_parquet('/Users/hollyyoon/Desktop/2019-Nov.parquet')"
   ]
  },
  {
   "cell_type": "code",
   "execution_count": 10,
   "id": "ed9baf8b",
   "metadata": {},
   "outputs": [
    {
     "name": "stdout",
     "output_type": "stream",
     "text": [
      "<class 'pandas.core.frame.DataFrame'>\n",
      "Int64Index: 20000000 entries, 29857089 to 47925311\n",
      "Data columns (total 9 columns):\n",
      " #   Column         Dtype  \n",
      "---  ------         -----  \n",
      " 0   event_time     object \n",
      " 1   event_type     object \n",
      " 2   product_id     int64  \n",
      " 3   category_id    int64  \n",
      " 4   category_code  object \n",
      " 5   brand          object \n",
      " 6   price          float64\n",
      " 7   user_id        int64  \n",
      " 8   user_session   object \n",
      "dtypes: float64(1), int64(3), object(5)\n",
      "memory usage: 1.5+ GB\n"
     ]
    }
   ],
   "source": [
    "df_all = pd.concat([df_oct, df_nov])\n",
    "df_all.info()"
   ]
  },
  {
   "cell_type": "code",
   "execution_count": 13,
   "id": "c8ff6e30",
   "metadata": {},
   "outputs": [
    {
     "data": {
      "text/html": [
       "<div>\n",
       "<style scoped>\n",
       "    .dataframe tbody tr th:only-of-type {\n",
       "        vertical-align: middle;\n",
       "    }\n",
       "\n",
       "    .dataframe tbody tr th {\n",
       "        vertical-align: top;\n",
       "    }\n",
       "\n",
       "    .dataframe thead th {\n",
       "        text-align: right;\n",
       "    }\n",
       "</style>\n",
       "<table border=\"1\" class=\"dataframe\">\n",
       "  <thead>\n",
       "    <tr style=\"text-align: right;\">\n",
       "      <th></th>\n",
       "      <th>product_id</th>\n",
       "      <th>category_id</th>\n",
       "      <th>price</th>\n",
       "      <th>user_id</th>\n",
       "    </tr>\n",
       "  </thead>\n",
       "  <tbody>\n",
       "    <tr>\n",
       "      <th>count</th>\n",
       "      <td>2.000000e+07</td>\n",
       "      <td>2.000000e+07</td>\n",
       "      <td>2.000000e+07</td>\n",
       "      <td>2.000000e+07</td>\n",
       "    </tr>\n",
       "    <tr>\n",
       "      <th>mean</th>\n",
       "      <td>1.153514e+07</td>\n",
       "      <td>2.057658e+18</td>\n",
       "      <td>2.914537e+02</td>\n",
       "      <td>5.360900e+08</td>\n",
       "    </tr>\n",
       "    <tr>\n",
       "      <th>std</th>\n",
       "      <td>1.485326e+07</td>\n",
       "      <td>1.932052e+16</td>\n",
       "      <td>3.570891e+02</td>\n",
       "      <td>2.098433e+07</td>\n",
       "    </tr>\n",
       "    <tr>\n",
       "      <th>min</th>\n",
       "      <td>1.000978e+06</td>\n",
       "      <td>2.053014e+18</td>\n",
       "      <td>0.000000e+00</td>\n",
       "      <td>2.951588e+07</td>\n",
       "    </tr>\n",
       "    <tr>\n",
       "      <th>25%</th>\n",
       "      <td>1.005239e+06</td>\n",
       "      <td>2.053014e+18</td>\n",
       "      <td>6.718000e+01</td>\n",
       "      <td>5.162052e+08</td>\n",
       "    </tr>\n",
       "    <tr>\n",
       "      <th>50%</th>\n",
       "      <td>5.100375e+06</td>\n",
       "      <td>2.053014e+18</td>\n",
       "      <td>1.647400e+02</td>\n",
       "      <td>5.320230e+08</td>\n",
       "    </tr>\n",
       "    <tr>\n",
       "      <th>75%</th>\n",
       "      <td>1.690017e+07</td>\n",
       "      <td>2.053014e+18</td>\n",
       "      <td>3.601100e+02</td>\n",
       "      <td>5.553693e+08</td>\n",
       "    </tr>\n",
       "    <tr>\n",
       "      <th>max</th>\n",
       "      <td>1.000286e+08</td>\n",
       "      <td>2.187708e+18</td>\n",
       "      <td>2.574070e+03</td>\n",
       "      <td>5.799697e+08</td>\n",
       "    </tr>\n",
       "  </tbody>\n",
       "</table>\n",
       "</div>"
      ],
      "text/plain": [
       "         product_id   category_id         price       user_id\n",
       "count  2.000000e+07  2.000000e+07  2.000000e+07  2.000000e+07\n",
       "mean   1.153514e+07  2.057658e+18  2.914537e+02  5.360900e+08\n",
       "std    1.485326e+07  1.932052e+16  3.570891e+02  2.098433e+07\n",
       "min    1.000978e+06  2.053014e+18  0.000000e+00  2.951588e+07\n",
       "25%    1.005239e+06  2.053014e+18  6.718000e+01  5.162052e+08\n",
       "50%    5.100375e+06  2.053014e+18  1.647400e+02  5.320230e+08\n",
       "75%    1.690017e+07  2.053014e+18  3.601100e+02  5.553693e+08\n",
       "max    1.000286e+08  2.187708e+18  2.574070e+03  5.799697e+08"
      ]
     },
     "execution_count": 13,
     "metadata": {},
     "output_type": "execute_result"
    }
   ],
   "source": [
    "df_all.describe()"
   ]
  },
  {
   "cell_type": "code",
   "execution_count": 14,
   "id": "fd2aaac3",
   "metadata": {},
   "outputs": [],
   "source": [
    "string = ['event_time', 'event_type', 'category_code', 'brand', 'user_session']\n",
    "number = ['product_id', 'category_id', 'user_id']\n",
    "\n",
    "for i in string:\n",
    "    df_all[i]=df_all[i].astype(\"category\")\n",
    "\n",
    "for y in number:\n",
    "    df_all[y]=pd.to_numeric(df_all[y], downcast='unsigned')"
   ]
  },
  {
   "cell_type": "code",
   "execution_count": 15,
   "id": "40f95750",
   "metadata": {},
   "outputs": [
    {
     "name": "stdout",
     "output_type": "stream",
     "text": [
      "<class 'pandas.core.frame.DataFrame'>\n",
      "Int64Index: 20000000 entries, 29857089 to 47925311\n",
      "Data columns (total 9 columns):\n",
      " #   Column         Dtype   \n",
      "---  ------         -----   \n",
      " 0   event_time     category\n",
      " 1   event_type     category\n",
      " 2   product_id     uint32  \n",
      " 3   category_id    uint64  \n",
      " 4   category_code  category\n",
      " 5   brand          category\n",
      " 6   price          float64 \n",
      " 7   user_id        uint32  \n",
      " 8   user_session   category\n",
      "dtypes: category(5), float64(1), uint32(2), uint64(1)\n",
      "memory usage: 1.3 GB\n"
     ]
    }
   ],
   "source": [
    "df_all.info()"
   ]
  },
  {
   "cell_type": "code",
   "execution_count": 16,
   "id": "bc37d9cf",
   "metadata": {},
   "outputs": [],
   "source": [
    "df_all.to_parquet('/Users/hollyyoon/Desktop/6candoit.parquet', compression=\"gzip\")"
   ]
  }
 ],
 "metadata": {
  "kernelspec": {
   "display_name": "Python 3 (ipykernel)",
   "language": "python",
   "name": "python3"
  },
  "language_info": {
   "codemirror_mode": {
    "name": "ipython",
    "version": 3
   },
   "file_extension": ".py",
   "mimetype": "text/x-python",
   "name": "python",
   "nbconvert_exporter": "python",
   "pygments_lexer": "ipython3",
   "version": "3.9.13"
  }
 },
 "nbformat": 4,
 "nbformat_minor": 5
}
